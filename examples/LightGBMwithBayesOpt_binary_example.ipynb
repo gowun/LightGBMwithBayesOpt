{
 "cells": [
  {
   "cell_type": "code",
   "execution_count": 1,
   "metadata": {},
   "outputs": [],
   "source": [
    "import pandas as pd\n",
    "import numpy as np\n",
    "import pickle\n",
    "from LightGBMwithBayesOpt import LightGBMwithBayesOpt, LightGBMEvalutor"
   ]
  },
  {
   "cell_type": "code",
   "execution_count": 2,
   "metadata": {},
   "outputs": [],
   "source": [
    "### data for 0 plan \n",
    "### all three category columns of channel, fee_prod_id and mbr_card_gr are already label-encoded\n",
    "### all numeric columns are already standardization-scaled\n",
    "\n",
    "with open('train_set_0304.pkl', 'rb') as f:\n",
    "    train_X, train_y = pickle.load(f)\n",
    "with open('test_set_0405.pkl', 'rb') as f:\n",
    "    test_X, test_y = pickle.load(f)"
   ]
  },
  {
   "cell_type": "code",
   "execution_count": 3,
   "metadata": {},
   "outputs": [
    {
     "data": {
      "text/html": [
       "<div>\n",
       "<style scoped>\n",
       "    .dataframe tbody tr th:only-of-type {\n",
       "        vertical-align: middle;\n",
       "    }\n",
       "\n",
       "    .dataframe tbody tr th {\n",
       "        vertical-align: top;\n",
       "    }\n",
       "\n",
       "    .dataframe thead th {\n",
       "        text-align: right;\n",
       "    }\n",
       "</style>\n",
       "<table border=\"1\" class=\"dataframe\">\n",
       "  <thead>\n",
       "    <tr style=\"text-align: right;\">\n",
       "      <th></th>\n",
       "      <th>channel</th>\n",
       "      <th>fee_prod_id</th>\n",
       "      <th>mbr_card_gr</th>\n",
       "      <th>additional_svc_allcare_scrb_type_standard</th>\n",
       "      <th>additional_svc_ansim_option_scrb_type_standard</th>\n",
       "      <th>additional_svc_bugs_scrb_type_standard</th>\n",
       "      <th>additional_svc_flo_scrb_type_standard</th>\n",
       "      <th>additional_svc_melon_scrb_type_standard</th>\n",
       "      <th>additional_svc_oksusu_scrb_type_standard</th>\n",
       "      <th>additional_svc_pooq_scrb_type_standard</th>\n",
       "      <th>...</th>\n",
       "      <th>overage_bf0_standard</th>\n",
       "      <th>overage_bf1_standard</th>\n",
       "      <th>overage_bf2_standard</th>\n",
       "      <th>real_avg_arpu_standard</th>\n",
       "      <th>rem_allot_cnt_standard</th>\n",
       "      <th>roaming_cnt_m3_standard</th>\n",
       "      <th>simpl_ref_cnsl_cnt_m3_standard</th>\n",
       "      <th>smart_watch_cnt_standard</th>\n",
       "      <th>svc_scrb_period_standard</th>\n",
       "      <th>tablet_cnt_standard</th>\n",
       "    </tr>\n",
       "  </thead>\n",
       "  <tbody>\n",
       "    <tr>\n",
       "      <th>252483</th>\n",
       "      <td>1</td>\n",
       "      <td>247</td>\n",
       "      <td>2</td>\n",
       "      <td>-0.019464</td>\n",
       "      <td>-0.290523</td>\n",
       "      <td>-0.114694</td>\n",
       "      <td>-0.11104</td>\n",
       "      <td>-0.075765</td>\n",
       "      <td>2.317187</td>\n",
       "      <td>0.0</td>\n",
       "      <td>...</td>\n",
       "      <td>-0.202224</td>\n",
       "      <td>-0.191739</td>\n",
       "      <td>-0.201029</td>\n",
       "      <td>-0.232049</td>\n",
       "      <td>-0.920419</td>\n",
       "      <td>-0.117019</td>\n",
       "      <td>-0.338241</td>\n",
       "      <td>-0.057639</td>\n",
       "      <td>3.161220</td>\n",
       "      <td>-0.031772</td>\n",
       "    </tr>\n",
       "    <tr>\n",
       "      <th>252484</th>\n",
       "      <td>2</td>\n",
       "      <td>171</td>\n",
       "      <td>2</td>\n",
       "      <td>-0.019464</td>\n",
       "      <td>-0.290523</td>\n",
       "      <td>-0.114694</td>\n",
       "      <td>-0.11104</td>\n",
       "      <td>-0.075765</td>\n",
       "      <td>0.528471</td>\n",
       "      <td>0.0</td>\n",
       "      <td>...</td>\n",
       "      <td>-0.202224</td>\n",
       "      <td>-0.191739</td>\n",
       "      <td>-0.201029</td>\n",
       "      <td>-0.027538</td>\n",
       "      <td>-0.498600</td>\n",
       "      <td>-0.117019</td>\n",
       "      <td>0.233286</td>\n",
       "      <td>-0.057639</td>\n",
       "      <td>2.691778</td>\n",
       "      <td>-0.031772</td>\n",
       "    </tr>\n",
       "    <tr>\n",
       "      <th>252485</th>\n",
       "      <td>3</td>\n",
       "      <td>204</td>\n",
       "      <td>4</td>\n",
       "      <td>-0.019464</td>\n",
       "      <td>-0.290523</td>\n",
       "      <td>-0.114694</td>\n",
       "      <td>-0.11104</td>\n",
       "      <td>-0.075765</td>\n",
       "      <td>0.528471</td>\n",
       "      <td>0.0</td>\n",
       "      <td>...</td>\n",
       "      <td>-0.202224</td>\n",
       "      <td>-0.191739</td>\n",
       "      <td>-0.201029</td>\n",
       "      <td>0.198199</td>\n",
       "      <td>-0.393145</td>\n",
       "      <td>-0.117019</td>\n",
       "      <td>-0.338241</td>\n",
       "      <td>-0.057639</td>\n",
       "      <td>2.626016</td>\n",
       "      <td>-0.031772</td>\n",
       "    </tr>\n",
       "    <tr>\n",
       "      <th>252486</th>\n",
       "      <td>2</td>\n",
       "      <td>168</td>\n",
       "      <td>4</td>\n",
       "      <td>-0.019464</td>\n",
       "      <td>-0.290523</td>\n",
       "      <td>-0.114694</td>\n",
       "      <td>-0.11104</td>\n",
       "      <td>-0.075765</td>\n",
       "      <td>0.528471</td>\n",
       "      <td>0.0</td>\n",
       "      <td>...</td>\n",
       "      <td>-0.202224</td>\n",
       "      <td>-0.191739</td>\n",
       "      <td>-0.201029</td>\n",
       "      <td>-0.587029</td>\n",
       "      <td>1.399585</td>\n",
       "      <td>-0.117019</td>\n",
       "      <td>0.233286</td>\n",
       "      <td>-0.057639</td>\n",
       "      <td>2.314404</td>\n",
       "      <td>-0.031772</td>\n",
       "    </tr>\n",
       "    <tr>\n",
       "      <th>252487</th>\n",
       "      <td>2</td>\n",
       "      <td>141</td>\n",
       "      <td>0</td>\n",
       "      <td>-0.019464</td>\n",
       "      <td>-0.290523</td>\n",
       "      <td>-0.114694</td>\n",
       "      <td>-0.11104</td>\n",
       "      <td>-0.075765</td>\n",
       "      <td>0.528471</td>\n",
       "      <td>0.0</td>\n",
       "      <td>...</td>\n",
       "      <td>-0.202224</td>\n",
       "      <td>-0.191739</td>\n",
       "      <td>-0.201029</td>\n",
       "      <td>-1.172890</td>\n",
       "      <td>-0.920419</td>\n",
       "      <td>-0.117019</td>\n",
       "      <td>1.376341</td>\n",
       "      <td>-0.057639</td>\n",
       "      <td>2.307322</td>\n",
       "      <td>-0.031772</td>\n",
       "    </tr>\n",
       "  </tbody>\n",
       "</table>\n",
       "<p>5 rows × 73 columns</p>\n",
       "</div>"
      ],
      "text/plain": [
       "        channel  fee_prod_id  mbr_card_gr  \\\n",
       "252483        1          247            2   \n",
       "252484        2          171            2   \n",
       "252485        3          204            4   \n",
       "252486        2          168            4   \n",
       "252487        2          141            0   \n",
       "\n",
       "        additional_svc_allcare_scrb_type_standard  \\\n",
       "252483                                  -0.019464   \n",
       "252484                                  -0.019464   \n",
       "252485                                  -0.019464   \n",
       "252486                                  -0.019464   \n",
       "252487                                  -0.019464   \n",
       "\n",
       "        additional_svc_ansim_option_scrb_type_standard  \\\n",
       "252483                                       -0.290523   \n",
       "252484                                       -0.290523   \n",
       "252485                                       -0.290523   \n",
       "252486                                       -0.290523   \n",
       "252487                                       -0.290523   \n",
       "\n",
       "        additional_svc_bugs_scrb_type_standard  \\\n",
       "252483                               -0.114694   \n",
       "252484                               -0.114694   \n",
       "252485                               -0.114694   \n",
       "252486                               -0.114694   \n",
       "252487                               -0.114694   \n",
       "\n",
       "        additional_svc_flo_scrb_type_standard  \\\n",
       "252483                               -0.11104   \n",
       "252484                               -0.11104   \n",
       "252485                               -0.11104   \n",
       "252486                               -0.11104   \n",
       "252487                               -0.11104   \n",
       "\n",
       "        additional_svc_melon_scrb_type_standard  \\\n",
       "252483                                -0.075765   \n",
       "252484                                -0.075765   \n",
       "252485                                -0.075765   \n",
       "252486                                -0.075765   \n",
       "252487                                -0.075765   \n",
       "\n",
       "        additional_svc_oksusu_scrb_type_standard  \\\n",
       "252483                                  2.317187   \n",
       "252484                                  0.528471   \n",
       "252485                                  0.528471   \n",
       "252486                                  0.528471   \n",
       "252487                                  0.528471   \n",
       "\n",
       "        additional_svc_pooq_scrb_type_standard  ...  overage_bf0_standard  \\\n",
       "252483                                     0.0  ...             -0.202224   \n",
       "252484                                     0.0  ...             -0.202224   \n",
       "252485                                     0.0  ...             -0.202224   \n",
       "252486                                     0.0  ...             -0.202224   \n",
       "252487                                     0.0  ...             -0.202224   \n",
       "\n",
       "        overage_bf1_standard  overage_bf2_standard  real_avg_arpu_standard  \\\n",
       "252483             -0.191739             -0.201029               -0.232049   \n",
       "252484             -0.191739             -0.201029               -0.027538   \n",
       "252485             -0.191739             -0.201029                0.198199   \n",
       "252486             -0.191739             -0.201029               -0.587029   \n",
       "252487             -0.191739             -0.201029               -1.172890   \n",
       "\n",
       "        rem_allot_cnt_standard  roaming_cnt_m3_standard  \\\n",
       "252483               -0.920419                -0.117019   \n",
       "252484               -0.498600                -0.117019   \n",
       "252485               -0.393145                -0.117019   \n",
       "252486                1.399585                -0.117019   \n",
       "252487               -0.920419                -0.117019   \n",
       "\n",
       "        simpl_ref_cnsl_cnt_m3_standard  smart_watch_cnt_standard  \\\n",
       "252483                       -0.338241                 -0.057639   \n",
       "252484                        0.233286                 -0.057639   \n",
       "252485                       -0.338241                 -0.057639   \n",
       "252486                        0.233286                 -0.057639   \n",
       "252487                        1.376341                 -0.057639   \n",
       "\n",
       "        svc_scrb_period_standard  tablet_cnt_standard  \n",
       "252483                  3.161220            -0.031772  \n",
       "252484                  2.691778            -0.031772  \n",
       "252485                  2.626016            -0.031772  \n",
       "252486                  2.314404            -0.031772  \n",
       "252487                  2.307322            -0.031772  \n",
       "\n",
       "[5 rows x 73 columns]"
      ]
     },
     "execution_count": 3,
     "metadata": {},
     "output_type": "execute_result"
    }
   ],
   "source": [
    "train_X.head()"
   ]
  },
  {
   "cell_type": "code",
   "execution_count": 4,
   "metadata": {},
   "outputs": [
    {
     "data": {
      "text/plain": [
       "0Large      11222\n",
       "Special      5237\n",
       "0Medium      4969\n",
       "Essence      3326\n",
       "0Small       3275\n",
       "Safe2.5G     1242\n",
       "Safe4G        419\n",
       "Max           419\n",
       "Name: price_plan, dtype: int64"
      ]
     },
     "execution_count": 4,
     "metadata": {},
     "output_type": "execute_result"
    }
   ],
   "source": [
    "pd.value_counts(train_y)"
   ]
  },
  {
   "cell_type": "code",
   "execution_count": 5,
   "metadata": {},
   "outputs": [],
   "source": [
    "train_y = list(map(lambda x: int(x in ['0Small', '0Medium', '0Large']), train_y))\n",
    "test_y = list(map(lambda x: int(x in ['0Small', '0Medium', '0Large']), test_y))"
   ]
  },
  {
   "cell_type": "code",
   "execution_count": 6,
   "metadata": {},
   "outputs": [
    {
     "data": {
      "text/plain": [
       "0    34401\n",
       "1    19466\n",
       "dtype: int64"
      ]
     },
     "execution_count": 6,
     "metadata": {},
     "output_type": "execute_result"
    }
   ],
   "source": [
    "pd.value_counts(train_y)"
   ]
  },
  {
   "cell_type": "code",
   "execution_count": 7,
   "metadata": {},
   "outputs": [],
   "source": [
    "not_range_params = {\n",
    "    'boosting': ['gbdt', 'dart'],\n",
    "    'objective': ['binary'],\n",
    "    'is_unbalance': [False, True]\n",
    "}\n",
    "rangeable_params = {\n",
    "    'num_leaves': (20, 100),\n",
    "    'max_depth': (3, 10),\n",
    "    'learning_rate': (0.01, 0.5),\n",
    "    'num_iterations': (100, 300),\n",
    "    'bagging_fraction': (0.8, 1),\n",
    "    'bagging_freq': (2, 10),\n",
    "    'feature_fraction': (0.6, 1)\n",
    "}\n",
    "int_params = ['num_leaves', 'max_depth', 'num_iterations', 'bagging_freq']"
   ]
  },
  {
   "cell_type": "code",
   "execution_count": 8,
   "metadata": {},
   "outputs": [
    {
     "name": "stdout",
     "output_type": "stream",
     "text": [
      "|   iter    |  target   | baggin... | baggin... | boosting  | featur... | is_unb... | learni... | max_depth | num_it... | num_le... | objective |\n",
      "-------------------------------------------------------------------------------------------------------------------------------------------------\n",
      "{'bagging_fraction': 0.932022301181832, 'bagging_freq': 9, 'boosting': 'dart', 'feature_fraction': 0.6893783798723037, 'is_unbalance': False, 'learning_rate': 0.4736757344908684, 'max_depth': 8, 'num_iterations': 252, 'num_leaves': 71, 'objective': 'binary', 'num_threads': 20}\n",
      "0\n"
     ]
    },
    {
     "name": "stderr",
     "output_type": "stream",
     "text": [
      "/home/dmig/py_libs/lib/python3.6/site-packages/lightgbm/engine.py:118: UserWarning: Found `num_iterations` in params. Will use it instead of argument\n",
      "  warnings.warn(\"Found `{}` in params. Will use it instead of argument\".format(alias))\n"
     ]
    },
    {
     "name": "stdout",
     "output_type": "stream",
     "text": [
      "   accuracy_cut_off  mcc_cut_off\n",
      "0          0.720985     0.384495\n",
      "1          0.718089     0.379124\n",
      "2          0.716625     0.374914\n",
      "mean: 0.5490385428055848\n",
      "| \u001b[0m 1       \u001b[0m | \u001b[0m 0.549   \u001b[0m | \u001b[0m 0.932   \u001b[0m | \u001b[0m 9.347   \u001b[0m | \u001b[0m 0.5782  \u001b[0m | \u001b[0m 0.6894  \u001b[0m | \u001b[0m 0.3067  \u001b[0m | \u001b[0m 0.4737  \u001b[0m | \u001b[0m 8.336   \u001b[0m | \u001b[0m 252.5   \u001b[0m | \u001b[0m 70.72   \u001b[0m | \u001b[0m 0.0     \u001b[0m |\n",
      "{'bagging_fraction': 0.904662875282128, 'bagging_freq': 3, 'boosting': 'dart', 'feature_fraction': 0.9914984962352847, 'is_unbalance': False, 'learning_rate': 0.41572966614999024, 'max_depth': 7, 'num_iterations': 124, 'num_leaves': 35, 'objective': 'binary', 'num_threads': 20}\n",
      "0\n"
     ]
    },
    {
     "name": "stderr",
     "output_type": "stream",
     "text": [
      "/home/dmig/py_libs/lib/python3.6/site-packages/lightgbm/engine.py:118: UserWarning: Found `num_iterations` in params. Will use it instead of argument\n",
      "  warnings.warn(\"Found `{}` in params. Will use it instead of argument\".format(alias))\n"
     ]
    },
    {
     "name": "stdout",
     "output_type": "stream",
     "text": [
      "   accuracy_cut_off  mcc_cut_off\n",
      "0          0.721040     0.381373\n",
      "1          0.726275     0.395789\n",
      "2          0.727207     0.397035\n",
      "mean: 0.5581199138942982\n",
      "| \u001b[95m 2       \u001b[0m | \u001b[95m 0.5581  \u001b[0m | \u001b[95m 0.9047  \u001b[0m | \u001b[95m 3.076   \u001b[0m | \u001b[95m 0.8907  \u001b[0m | \u001b[95m 0.9915  \u001b[0m | \u001b[95m 0.09683 \u001b[0m | \u001b[95m 0.4157  \u001b[0m | \u001b[95m 6.844   \u001b[0m | \u001b[95m 123.7   \u001b[0m | \u001b[95m 34.87   \u001b[0m | \u001b[95m 0.0     \u001b[0m |\n",
      "{'bagging_fraction': 0.9289534733913996, 'bagging_freq': 4, 'boosting': 'gbdt', 'feature_fraction': 0.7949614570842739, 'is_unbalance': True, 'learning_rate': 0.11805762201325287, 'max_depth': 10, 'num_iterations': 221, 'num_leaves': 44, 'objective': 'binary', 'num_threads': 20}\n",
      "0\n"
     ]
    },
    {
     "name": "stderr",
     "output_type": "stream",
     "text": [
      "/home/dmig/py_libs/lib/python3.6/site-packages/lightgbm/engine.py:118: UserWarning: Found `num_iterations` in params. Will use it instead of argument\n",
      "  warnings.warn(\"Found `{}` in params. Will use it instead of argument\".format(alias))\n"
     ]
    },
    {
     "name": "stdout",
     "output_type": "stream",
     "text": [
      "   accuracy_cut_off  mcc_cut_off\n",
      "0          0.716696     0.433222\n",
      "1          0.714469     0.429977\n",
      "2          0.714731     0.428096\n",
      "mean: 0.57286529390438\n",
      "| \u001b[95m 3       \u001b[0m | \u001b[95m 0.5729  \u001b[0m | \u001b[95m 0.929   \u001b[0m | \u001b[95m 3.884   \u001b[0m | \u001b[95m 0.4453  \u001b[0m | \u001b[95m 0.795   \u001b[0m | \u001b[95m 0.7956  \u001b[0m | \u001b[95m 0.1181  \u001b[0m | \u001b[95m 9.681   \u001b[0m | \u001b[95m 221.3   \u001b[0m | \u001b[95m 44.27   \u001b[0m | \u001b[95m 0.0     \u001b[0m |\n",
      "{'bagging_fraction': 0.8370992756623183, 'bagging_freq': 9, 'boosting': 'gbdt', 'feature_fraction': 0.7564200474698173, 'is_unbalance': False, 'learning_rate': 0.39204477572585955, 'max_depth': 3, 'num_iterations': 179, 'num_leaves': 87, 'objective': 'binary', 'num_threads': 20}\n",
      "0\n"
     ]
    },
    {
     "name": "stderr",
     "output_type": "stream",
     "text": [
      "/home/dmig/py_libs/lib/python3.6/site-packages/lightgbm/engine.py:118: UserWarning: Found `num_iterations` in params. Will use it instead of argument\n",
      "  warnings.warn(\"Found `{}` in params. Will use it instead of argument\".format(alias))\n"
     ]
    },
    {
     "name": "stdout",
     "output_type": "stream",
     "text": [
      "   accuracy_cut_off  mcc_cut_off\n",
      "0          0.716585     0.372459\n",
      "1          0.720261     0.382767\n",
      "2          0.719020     0.379174\n",
      "mean: 0.5483775561846854\n",
      "| \u001b[0m 4       \u001b[0m | \u001b[0m 0.5484  \u001b[0m | \u001b[0m 0.8371  \u001b[0m | \u001b[0m 8.799   \u001b[0m | \u001b[0m 0.3363  \u001b[0m | \u001b[0m 0.7564  \u001b[0m | \u001b[0m 0.1652  \u001b[0m | \u001b[0m 0.392   \u001b[0m | \u001b[0m 3.119   \u001b[0m | \u001b[0m 178.7   \u001b[0m | \u001b[0m 87.18   \u001b[0m | \u001b[0m 0.0     \u001b[0m |\n",
      "{'bagging_fraction': 0.9229130673316693, 'bagging_freq': 6, 'boosting': 'gbdt', 'feature_fraction': 0.9752835660919528, 'is_unbalance': True, 'learning_rate': 0.24411547723237284, 'max_depth': 7, 'num_iterations': 116, 'num_leaves': 52, 'objective': 'binary', 'num_threads': 20}\n",
      "0\n"
     ]
    },
    {
     "name": "stderr",
     "output_type": "stream",
     "text": [
      "/home/dmig/py_libs/lib/python3.6/site-packages/lightgbm/engine.py:118: UserWarning: Found `num_iterations` in params. Will use it instead of argument\n",
      "  warnings.warn(\"Found `{}` in params. Will use it instead of argument\".format(alias))\n"
     ]
    },
    {
     "name": "stdout",
     "output_type": "stream",
     "text": [
      "   accuracy_cut_off  mcc_cut_off\n",
      "0          0.711239     0.415150\n",
      "1          0.713411     0.419942\n",
      "2          0.711668     0.419145\n",
      "mean: 0.5650923901017436\n",
      "| \u001b[0m 5       \u001b[0m | \u001b[0m 0.5651  \u001b[0m | \u001b[0m 0.9229  \u001b[0m | \u001b[0m 5.513   \u001b[0m | \u001b[0m 0.4029  \u001b[0m | \u001b[0m 0.9753  \u001b[0m | \u001b[0m 0.5022  \u001b[0m | \u001b[0m 0.2441  \u001b[0m | \u001b[0m 6.518   \u001b[0m | \u001b[0m 116.2   \u001b[0m | \u001b[0m 51.54   \u001b[0m | \u001b[0m 0.0     \u001b[0m |\n",
      "{'bagging_fraction': 0.8868101711580003, 'bagging_freq': 8, 'boosting': 'gbdt', 'feature_fraction': 0.7304283525982124, 'is_unbalance': True, 'learning_rate': 0.10147903653166253, 'max_depth': 8, 'num_iterations': 280, 'num_leaves': 39, 'objective': 'binary', 'num_threads': 20}\n",
      "0\n"
     ]
    },
    {
     "name": "stderr",
     "output_type": "stream",
     "text": [
      "/home/dmig/py_libs/lib/python3.6/site-packages/lightgbm/engine.py:118: UserWarning: Found `num_iterations` in params. Will use it instead of argument\n",
      "  warnings.warn(\"Found `{}` in params. Will use it instead of argument\".format(alias))\n"
     ]
    },
    {
     "name": "stdout",
     "output_type": "stream",
     "text": [
      "   accuracy_cut_off  mcc_cut_off\n",
      "0          0.718311     0.437318\n",
      "1          0.716919     0.437268\n",
      "2          0.719020     0.441578\n",
      "mean: 0.578402479858133\n",
      "| \u001b[95m 6       \u001b[0m | \u001b[95m 0.5784  \u001b[0m | \u001b[95m 0.8868  \u001b[0m | \u001b[95m 7.67    \u001b[0m | \u001b[95m 0.1961  \u001b[0m | \u001b[95m 0.7304  \u001b[0m | \u001b[95m 0.8771  \u001b[0m | \u001b[95m 0.1015  \u001b[0m | \u001b[95m 8.365   \u001b[0m | \u001b[95m 279.7   \u001b[0m | \u001b[95m 38.61   \u001b[0m | \u001b[95m 0.0     \u001b[0m |\n",
      "{'bagging_fraction': 0.8558421427946651, 'bagging_freq': 6, 'boosting': 'dart', 'feature_fraction': 0.7868743579674751, 'is_unbalance': True, 'learning_rate': 0.022381837698443992, 'max_depth': 4, 'num_iterations': 131, 'num_leaves': 81, 'objective': 'binary', 'num_threads': 20}\n",
      "0\n"
     ]
    },
    {
     "name": "stderr",
     "output_type": "stream",
     "text": [
      "/home/dmig/py_libs/lib/python3.6/site-packages/lightgbm/engine.py:118: UserWarning: Found `num_iterations` in params. Will use it instead of argument\n",
      "  warnings.warn(\"Found `{}` in params. Will use it instead of argument\".format(alias))\n"
     ]
    },
    {
     "name": "stdout",
     "output_type": "stream",
     "text": [
      "   accuracy_cut_off  mcc_cut_off\n",
      "0          0.677656     0.355884\n",
      "1          0.678659     0.361687\n",
      "2          0.677583     0.365759\n",
      "mean: 0.5195379933826597\n",
      "| \u001b[0m 7       \u001b[0m | \u001b[0m 0.5195  \u001b[0m | \u001b[0m 0.8558  \u001b[0m | \u001b[0m 6.435   \u001b[0m | \u001b[0m 0.9248  \u001b[0m | \u001b[0m 0.7869  \u001b[0m | \u001b[0m 0.8636  \u001b[0m | \u001b[0m 0.02238 \u001b[0m | \u001b[0m 3.854   \u001b[0m | \u001b[0m 131.5   \u001b[0m | \u001b[0m 81.5    \u001b[0m | \u001b[0m 0.0     \u001b[0m |\n",
      "{'bagging_fraction': 0.8795974836923299, 'bagging_freq': 9, 'boosting': 'dart', 'feature_fraction': 0.6596691382715691, 'is_unbalance': False, 'learning_rate': 0.4751769104120091, 'max_depth': 9, 'num_iterations': 205, 'num_leaves': 58, 'objective': 'binary', 'num_threads': 20}\n",
      "0\n"
     ]
    },
    {
     "name": "stderr",
     "output_type": "stream",
     "text": [
      "/home/dmig/py_libs/lib/python3.6/site-packages/lightgbm/engine.py:118: UserWarning: Found `num_iterations` in params. Will use it instead of argument\n",
      "  warnings.warn(\"Found `{}` in params. Will use it instead of argument\".format(alias))\n"
     ]
    },
    {
     "name": "stdout",
     "output_type": "stream",
     "text": [
      "   accuracy_cut_off  mcc_cut_off\n",
      "0          0.715471     0.372118\n",
      "1          0.718701     0.380352\n",
      "2          0.724144     0.393093\n",
      "mean: 0.5506465050386319\n",
      "| \u001b[0m 8       \u001b[0m | \u001b[0m 0.5506  \u001b[0m | \u001b[0m 0.8796  \u001b[0m | \u001b[0m 9.002   \u001b[0m | \u001b[0m 0.7969  \u001b[0m | \u001b[0m 0.6597  \u001b[0m | \u001b[0m 0.05786 \u001b[0m | \u001b[0m 0.4752  \u001b[0m | \u001b[0m 9.305   \u001b[0m | \u001b[0m 205.2   \u001b[0m | \u001b[0m 57.99   \u001b[0m | \u001b[0m 0.0     \u001b[0m |\n",
      "{'bagging_fraction': 0.9837957649588104, 'bagging_freq': 10, 'boosting': 'gbdt', 'feature_fraction': 0.8932161460421807, 'is_unbalance': False, 'learning_rate': 0.3492471864202005, 'max_depth': 6, 'num_iterations': 292, 'num_leaves': 95, 'objective': 'binary', 'num_threads': 20}\n",
      "0\n"
     ]
    },
    {
     "name": "stderr",
     "output_type": "stream",
     "text": [
      "/home/dmig/py_libs/lib/python3.6/site-packages/lightgbm/engine.py:118: UserWarning: Found `num_iterations` in params. Will use it instead of argument\n",
      "  warnings.warn(\"Found `{}` in params. Will use it instead of argument\".format(alias))\n"
     ]
    },
    {
     "name": "stdout",
     "output_type": "stream",
     "text": [
      "   accuracy_cut_off  mcc_cut_off\n",
      "0          0.708788     0.357947\n",
      "1          0.710069     0.363005\n",
      "2          0.716346     0.378516\n",
      "mean: 0.5391119628850903\n",
      "| \u001b[0m 9       \u001b[0m | \u001b[0m 0.5391  \u001b[0m | \u001b[0m 0.9838  \u001b[0m | \u001b[0m 9.591   \u001b[0m | \u001b[0m 0.275   \u001b[0m | \u001b[0m 0.8932  \u001b[0m | \u001b[0m 0.1735  \u001b[0m | \u001b[0m 0.3492  \u001b[0m | \u001b[0m 5.631   \u001b[0m | \u001b[0m 291.9   \u001b[0m | \u001b[0m 94.61   \u001b[0m | \u001b[0m 0.0     \u001b[0m |\n",
      "{'bagging_fraction': 0.9262925364685894, 'bagging_freq': 3, 'boosting': 'gbdt', 'feature_fraction': 0.8131755651287843, 'is_unbalance': True, 'learning_rate': 0.15659000934132572, 'max_depth': 6, 'num_iterations': 115, 'num_leaves': 70, 'objective': 'binary', 'num_threads': 20}\n",
      "0\n"
     ]
    },
    {
     "name": "stderr",
     "output_type": "stream",
     "text": [
      "/home/dmig/py_libs/lib/python3.6/site-packages/lightgbm/engine.py:118: UserWarning: Found `num_iterations` in params. Will use it instead of argument\n",
      "  warnings.warn(\"Found `{}` in params. Will use it instead of argument\".format(alias))\n"
     ]
    },
    {
     "name": "stdout",
     "output_type": "stream",
     "text": [
      "   accuracy_cut_off  mcc_cut_off\n",
      "0          0.711350     0.430727\n",
      "1          0.712631     0.438133\n",
      "2          0.713339     0.439631\n",
      "mean: 0.5743018210403407\n",
      "| \u001b[0m 10      \u001b[0m | \u001b[0m 0.5743  \u001b[0m | \u001b[0m 0.9263  \u001b[0m | \u001b[0m 2.867   \u001b[0m | \u001b[0m 0.2893  \u001b[0m | \u001b[0m 0.8132  \u001b[0m | \u001b[0m 0.994   \u001b[0m | \u001b[0m 0.1566  \u001b[0m | \u001b[0m 6.015   \u001b[0m | \u001b[0m 115.2   \u001b[0m | \u001b[0m 69.51   \u001b[0m | \u001b[0m 0.0     \u001b[0m |\n",
      "{'bagging_fraction': 1.0, 'bagging_freq': 2, 'boosting': 'gbdt', 'feature_fraction': 0.6000000106168499, 'is_unbalance': True, 'learning_rate': 0.5, 'max_depth': 3, 'num_iterations': 300, 'num_leaves': 20, 'objective': 'binary', 'num_threads': 20}\n",
      "0\n"
     ]
    },
    {
     "name": "stderr",
     "output_type": "stream",
     "text": [
      "/home/dmig/py_libs/lib/python3.6/site-packages/lightgbm/engine.py:118: UserWarning: Found `num_iterations` in params. Will use it instead of argument\n",
      "  warnings.warn(\"Found `{}` in params. Will use it instead of argument\".format(alias))\n"
     ]
    },
    {
     "name": "stdout",
     "output_type": "stream",
     "text": [
      "   accuracy_cut_off  mcc_cut_off\n",
      "0          0.707173     0.412919\n",
      "1          0.704110     0.409618\n",
      "2          0.705486     0.414653\n",
      "mean: 0.5589932148452356\n",
      "| \u001b[0m 11      \u001b[0m | \u001b[0m 0.559   \u001b[0m | \u001b[0m 1.0     \u001b[0m | \u001b[0m 2.0     \u001b[0m | \u001b[0m 9.144e-1\u001b[0m | \u001b[0m 0.6     \u001b[0m | \u001b[0m 1.0     \u001b[0m | \u001b[0m 0.5     \u001b[0m | \u001b[0m 3.0     \u001b[0m | \u001b[0m 300.0   \u001b[0m | \u001b[0m 20.0    \u001b[0m | \u001b[0m 0.0     \u001b[0m |\n",
      "{'bagging_fraction': 0.8000000000239661, 'bagging_freq': 2, 'boosting': 'gbdt', 'feature_fraction': 0.6000000000571352, 'is_unbalance': True, 'learning_rate': 0.5, 'max_depth': 10, 'num_iterations': 100, 'num_leaves': 20, 'objective': 'binary', 'num_threads': 20}\n",
      "0\n"
     ]
    },
    {
     "name": "stderr",
     "output_type": "stream",
     "text": [
      "/home/dmig/py_libs/lib/python3.6/site-packages/lightgbm/engine.py:118: UserWarning: Found `num_iterations` in params. Will use it instead of argument\n",
      "  warnings.warn(\"Found `{}` in params. Will use it instead of argument\".format(alias))\n"
     ]
    },
    {
     "name": "stdout",
     "output_type": "stream",
     "text": [
      "   accuracy_cut_off  mcc_cut_off\n",
      "0          0.699209     0.393488\n",
      "1          0.696425     0.387386\n",
      "2          0.701420     0.400525\n",
      "mean: 0.5464088155497883\n",
      "| \u001b[0m 12      \u001b[0m | \u001b[0m 0.5464  \u001b[0m | \u001b[0m 0.8     \u001b[0m | \u001b[0m 2.0     \u001b[0m | \u001b[0m 0.0     \u001b[0m | \u001b[0m 0.6     \u001b[0m | \u001b[0m 1.0     \u001b[0m | \u001b[0m 0.5     \u001b[0m | \u001b[0m 10.0    \u001b[0m | \u001b[0m 100.0   \u001b[0m | \u001b[0m 20.0    \u001b[0m | \u001b[0m 0.0     \u001b[0m |\n",
      "{'bagging_fraction': 0.9781445150903318, 'bagging_freq': 2, 'boosting': 'gbdt', 'feature_fraction': 1.0, 'is_unbalance': False, 'learning_rate': 0.01000000029261339, 'max_depth': 10, 'num_iterations': 209, 'num_leaves': 100, 'objective': 'binary', 'num_threads': 20}\n",
      "0\n"
     ]
    },
    {
     "name": "stderr",
     "output_type": "stream",
     "text": [
      "/home/dmig/py_libs/lib/python3.6/site-packages/lightgbm/engine.py:118: UserWarning: Found `num_iterations` in params. Will use it instead of argument\n",
      "  warnings.warn(\"Found `{}` in params. Will use it instead of argument\".format(alias))\n"
     ]
    },
    {
     "name": "stdout",
     "output_type": "stream",
     "text": [
      "   accuracy_cut_off  mcc_cut_off\n",
      "0          0.713912     0.349961\n",
      "1          0.721374     0.369083\n",
      "2          0.721693     0.369225\n",
      "mean: 0.5408747113485463\n",
      "| \u001b[0m 13      \u001b[0m | \u001b[0m 0.5409  \u001b[0m | \u001b[0m 0.9781  \u001b[0m | \u001b[0m 2.0     \u001b[0m | \u001b[0m 0.1443  \u001b[0m | \u001b[0m 1.0     \u001b[0m | \u001b[0m 0.0     \u001b[0m | \u001b[0m 0.01    \u001b[0m | \u001b[0m 10.0    \u001b[0m | \u001b[0m 208.6   \u001b[0m | \u001b[0m 100.0   \u001b[0m | \u001b[0m 0.0     \u001b[0m |\n",
      "{'bagging_fraction': 0.9682024826323868, 'bagging_freq': 10, 'boosting': 'gbdt', 'feature_fraction': 1.0, 'is_unbalance': False, 'learning_rate': 0.01, 'max_depth': 3, 'num_iterations': 245, 'num_leaves': 20, 'objective': 'binary', 'num_threads': 20}\n",
      "0\n"
     ]
    },
    {
     "name": "stderr",
     "output_type": "stream",
     "text": [
      "/home/dmig/py_libs/lib/python3.6/site-packages/lightgbm/engine.py:118: UserWarning: Found `num_iterations` in params. Will use it instead of argument\n",
      "  warnings.warn(\"Found `{}` in params. Will use it instead of argument\".format(alias))\n"
     ]
    },
    {
     "name": "stdout",
     "output_type": "stream",
     "text": [
      "   accuracy_cut_off  mcc_cut_off\n",
      "0          0.674204     0.231223\n",
      "1          0.687458     0.267009\n",
      "2          0.681704     0.249555\n",
      "mean: 0.46519230543806606\n",
      "| \u001b[0m 14      \u001b[0m | \u001b[0m 0.4652  \u001b[0m | \u001b[0m 0.9682  \u001b[0m | \u001b[0m 10.0    \u001b[0m | \u001b[0m 3.131e-0\u001b[0m | \u001b[0m 1.0     \u001b[0m | \u001b[0m 0.3547  \u001b[0m | \u001b[0m 0.01    \u001b[0m | \u001b[0m 3.0     \u001b[0m | \u001b[0m 245.0   \u001b[0m | \u001b[0m 20.0    \u001b[0m | \u001b[0m 0.0     \u001b[0m |\n",
      "{'bagging_fraction': 0.8, 'bagging_freq': 2, 'boosting': 'gbdt', 'feature_fraction': 0.6, 'is_unbalance': False, 'learning_rate': 0.3545618875908192, 'max_depth': 3, 'num_iterations': 300, 'num_leaves': 54, 'objective': 'binary', 'num_threads': 20}\n",
      "0\n"
     ]
    },
    {
     "name": "stderr",
     "output_type": "stream",
     "text": [
      "/home/dmig/py_libs/lib/python3.6/site-packages/lightgbm/engine.py:118: UserWarning: Found `num_iterations` in params. Will use it instead of argument\n",
      "  warnings.warn(\"Found `{}` in params. Will use it instead of argument\".format(alias))\n"
     ]
    },
    {
     "name": "stdout",
     "output_type": "stream",
     "text": [
      "   accuracy_cut_off  mcc_cut_off\n",
      "0          0.717086     0.375001\n",
      "1          0.721709     0.384214\n",
      "2          0.723865     0.391438\n",
      "mean: 0.5522187346091937\n",
      "| \u001b[0m 15      \u001b[0m | \u001b[0m 0.5522  \u001b[0m | \u001b[0m 0.8     \u001b[0m | \u001b[0m 2.0     \u001b[0m | \u001b[0m 0.0     \u001b[0m | \u001b[0m 0.6     \u001b[0m | \u001b[0m 0.0     \u001b[0m | \u001b[0m 0.3546  \u001b[0m | \u001b[0m 3.0     \u001b[0m | \u001b[0m 300.0   \u001b[0m | \u001b[0m 54.45   \u001b[0m | \u001b[0m 0.0     \u001b[0m |\n",
      "=================================================================================================================================================\n"
     ]
    }
   ],
   "source": [
    "#### binary-classification modeling for mobility to target price plans or not\n",
    "#### while taking the category columns as numeric\n",
    "#### \n",
    "binary_tuner = LightGBMwithBayesOpt(train_X, train_y, 3, rangeable_params, int_params, 5, [0, 1], not_range_params,  \n",
    "                                    pred_modes=['cut_off'], metrics=['accuracy', 'mcc'], thresholds=[0.5])\n",
    "binary_tuner.do_parameter_tuning()"
   ]
  },
  {
   "cell_type": "code",
   "execution_count": 9,
   "metadata": {},
   "outputs": [
    {
     "name": "stderr",
     "output_type": "stream",
     "text": [
      "/home/dmig/py_libs/lib/python3.6/site-packages/lightgbm/engine.py:118: UserWarning: Found `num_iterations` in params. Will use it instead of argument\n",
      "  warnings.warn(\"Found `{}` in params. Will use it instead of argument\".format(alias))\n"
     ]
    }
   ],
   "source": [
    "### train data with the best parameter\n",
    "binary_model = binary_tuner.do_train_with_given_parameter(binary_tuner.best_parameter, binary_tuner.data_set)"
   ]
  },
  {
   "cell_type": "code",
   "execution_count": 10,
   "metadata": {},
   "outputs": [
    {
     "data": {
      "text/plain": [
       "{'bagging_fraction': 0.8868101711580003,\n",
       " 'bagging_freq': 8,\n",
       " 'boosting': 'gbdt',\n",
       " 'feature_fraction': 0.7304283525982124,\n",
       " 'is_unbalance': True,\n",
       " 'learning_rate': 0.10147903653166253,\n",
       " 'max_depth': 8,\n",
       " 'num_leaves': 39,\n",
       " 'num_threads': 20,\n",
       " 'objective': 'binary'}"
      ]
     },
     "execution_count": 10,
     "metadata": {},
     "output_type": "execute_result"
    }
   ],
   "source": [
    "binary_model.params"
   ]
  },
  {
   "cell_type": "code",
   "execution_count": 12,
   "metadata": {},
   "outputs": [],
   "source": [
    "### evaluate the model with the test set\n",
    "evl = LightGBMEvalutor(binary_model, test_X, [0, 1], test_y)\n",
    "scores = evl.score_predict()\n",
    "labels = evl.label_predict(scores, mode='cut_off', threshold=0.5)\n",
    "acc_mcc_list = list(map(lambda x: evl.measure_pred_with_true(labels, mode=x), ['accuracy', 'mcc']))"
   ]
  },
  {
   "cell_type": "code",
   "execution_count": 14,
   "metadata": {},
   "outputs": [
    {
     "data": {
      "text/plain": [
       "array([0.4126598 , 0.34422864, 0.13353345, 0.45986849, 0.44819393,\n",
       "       0.6031457 , 0.45839246, 0.27097308, 0.40673216, 0.37362474])"
      ]
     },
     "execution_count": 14,
     "metadata": {},
     "output_type": "execute_result"
    }
   ],
   "source": [
    "scores[:10]"
   ]
  },
  {
   "cell_type": "code",
   "execution_count": 15,
   "metadata": {},
   "outputs": [
    {
     "data": {
      "text/plain": [
       "[0, 0, 0, 0, 0, 1, 0, 0, 0, 0]"
      ]
     },
     "execution_count": 15,
     "metadata": {},
     "output_type": "execute_result"
    }
   ],
   "source": [
    "labels[:10]"
   ]
  },
  {
   "cell_type": "code",
   "execution_count": 16,
   "metadata": {},
   "outputs": [
    {
     "data": {
      "text/plain": [
       "[0.6213629402756509, 0.19362433367049303]"
      ]
     },
     "execution_count": 16,
     "metadata": {},
     "output_type": "execute_result"
    }
   ],
   "source": [
    "## accuracy, mcc\n",
    "acc_mcc_list"
   ]
  },
  {
   "cell_type": "code",
   "execution_count": null,
   "metadata": {},
   "outputs": [],
   "source": []
  }
 ],
 "metadata": {
  "kernelspec": {
   "display_name": "Python 3",
   "language": "python",
   "name": "python3"
  },
  "language_info": {
   "codemirror_mode": {
    "name": "ipython",
    "version": 3
   },
   "file_extension": ".py",
   "mimetype": "text/x-python",
   "name": "python",
   "nbconvert_exporter": "python",
   "pygments_lexer": "ipython3",
   "version": "3.6.7"
  }
 },
 "nbformat": 4,
 "nbformat_minor": 2
}
