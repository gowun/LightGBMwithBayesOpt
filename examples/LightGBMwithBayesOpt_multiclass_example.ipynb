{
 "cells": [
  {
   "cell_type": "code",
   "execution_count": 1,
   "metadata": {},
   "outputs": [],
   "source": [
    "import pandas as pd\n",
    "import numpy as np\n",
    "import pickle\n",
    "from LightGBMwithBayesOpt.LightGBMwithBayesOpt import LightGBMwithBayesOpt, LightGBMEvalutor"
   ]
  },
  {
   "cell_type": "code",
   "execution_count": 2,
   "metadata": {},
   "outputs": [],
   "source": [
    "### data for 0 plan \n",
    "### all three category columns of channel, fee_prod_id and mbr_card_gr are already label-encoded\n",
    "### all numeric columns are already standardization-scaled\n",
    "\n",
    "with open('train_set_0304.pkl', 'rb') as f:\n",
    "    train_X, train_y = pickle.load(f)\n",
    "with open('test_set_0405.pkl', 'rb') as f:\n",
    "    test_X, test_y = pickle.load(f)"
   ]
  },
  {
   "cell_type": "code",
   "execution_count": 3,
   "metadata": {},
   "outputs": [
    {
     "data": {
      "text/html": [
       "<div>\n",
       "<style scoped>\n",
       "    .dataframe tbody tr th:only-of-type {\n",
       "        vertical-align: middle;\n",
       "    }\n",
       "\n",
       "    .dataframe tbody tr th {\n",
       "        vertical-align: top;\n",
       "    }\n",
       "\n",
       "    .dataframe thead th {\n",
       "        text-align: right;\n",
       "    }\n",
       "</style>\n",
       "<table border=\"1\" class=\"dataframe\">\n",
       "  <thead>\n",
       "    <tr style=\"text-align: right;\">\n",
       "      <th></th>\n",
       "      <th>channel</th>\n",
       "      <th>fee_prod_id</th>\n",
       "      <th>mbr_card_gr</th>\n",
       "      <th>additional_svc_allcare_scrb_type_standard</th>\n",
       "      <th>additional_svc_ansim_option_scrb_type_standard</th>\n",
       "      <th>additional_svc_bugs_scrb_type_standard</th>\n",
       "      <th>additional_svc_flo_scrb_type_standard</th>\n",
       "      <th>additional_svc_melon_scrb_type_standard</th>\n",
       "      <th>additional_svc_oksusu_scrb_type_standard</th>\n",
       "      <th>additional_svc_pooq_scrb_type_standard</th>\n",
       "      <th>...</th>\n",
       "      <th>overage_bf0_standard</th>\n",
       "      <th>overage_bf1_standard</th>\n",
       "      <th>overage_bf2_standard</th>\n",
       "      <th>real_avg_arpu_standard</th>\n",
       "      <th>rem_allot_cnt_standard</th>\n",
       "      <th>roaming_cnt_m3_standard</th>\n",
       "      <th>simpl_ref_cnsl_cnt_m3_standard</th>\n",
       "      <th>smart_watch_cnt_standard</th>\n",
       "      <th>svc_scrb_period_standard</th>\n",
       "      <th>tablet_cnt_standard</th>\n",
       "    </tr>\n",
       "  </thead>\n",
       "  <tbody>\n",
       "    <tr>\n",
       "      <th>252483</th>\n",
       "      <td>1</td>\n",
       "      <td>247</td>\n",
       "      <td>2</td>\n",
       "      <td>-0.019464</td>\n",
       "      <td>-0.290523</td>\n",
       "      <td>-0.114694</td>\n",
       "      <td>-0.11104</td>\n",
       "      <td>-0.075765</td>\n",
       "      <td>2.317187</td>\n",
       "      <td>0.0</td>\n",
       "      <td>...</td>\n",
       "      <td>-0.202224</td>\n",
       "      <td>-0.191739</td>\n",
       "      <td>-0.201029</td>\n",
       "      <td>-0.232049</td>\n",
       "      <td>-0.920419</td>\n",
       "      <td>-0.117019</td>\n",
       "      <td>-0.338241</td>\n",
       "      <td>-0.057639</td>\n",
       "      <td>3.161220</td>\n",
       "      <td>-0.031772</td>\n",
       "    </tr>\n",
       "    <tr>\n",
       "      <th>252484</th>\n",
       "      <td>2</td>\n",
       "      <td>171</td>\n",
       "      <td>2</td>\n",
       "      <td>-0.019464</td>\n",
       "      <td>-0.290523</td>\n",
       "      <td>-0.114694</td>\n",
       "      <td>-0.11104</td>\n",
       "      <td>-0.075765</td>\n",
       "      <td>0.528471</td>\n",
       "      <td>0.0</td>\n",
       "      <td>...</td>\n",
       "      <td>-0.202224</td>\n",
       "      <td>-0.191739</td>\n",
       "      <td>-0.201029</td>\n",
       "      <td>-0.027538</td>\n",
       "      <td>-0.498600</td>\n",
       "      <td>-0.117019</td>\n",
       "      <td>0.233286</td>\n",
       "      <td>-0.057639</td>\n",
       "      <td>2.691778</td>\n",
       "      <td>-0.031772</td>\n",
       "    </tr>\n",
       "    <tr>\n",
       "      <th>252485</th>\n",
       "      <td>3</td>\n",
       "      <td>204</td>\n",
       "      <td>4</td>\n",
       "      <td>-0.019464</td>\n",
       "      <td>-0.290523</td>\n",
       "      <td>-0.114694</td>\n",
       "      <td>-0.11104</td>\n",
       "      <td>-0.075765</td>\n",
       "      <td>0.528471</td>\n",
       "      <td>0.0</td>\n",
       "      <td>...</td>\n",
       "      <td>-0.202224</td>\n",
       "      <td>-0.191739</td>\n",
       "      <td>-0.201029</td>\n",
       "      <td>0.198199</td>\n",
       "      <td>-0.393145</td>\n",
       "      <td>-0.117019</td>\n",
       "      <td>-0.338241</td>\n",
       "      <td>-0.057639</td>\n",
       "      <td>2.626016</td>\n",
       "      <td>-0.031772</td>\n",
       "    </tr>\n",
       "    <tr>\n",
       "      <th>252486</th>\n",
       "      <td>2</td>\n",
       "      <td>168</td>\n",
       "      <td>4</td>\n",
       "      <td>-0.019464</td>\n",
       "      <td>-0.290523</td>\n",
       "      <td>-0.114694</td>\n",
       "      <td>-0.11104</td>\n",
       "      <td>-0.075765</td>\n",
       "      <td>0.528471</td>\n",
       "      <td>0.0</td>\n",
       "      <td>...</td>\n",
       "      <td>-0.202224</td>\n",
       "      <td>-0.191739</td>\n",
       "      <td>-0.201029</td>\n",
       "      <td>-0.587029</td>\n",
       "      <td>1.399585</td>\n",
       "      <td>-0.117019</td>\n",
       "      <td>0.233286</td>\n",
       "      <td>-0.057639</td>\n",
       "      <td>2.314404</td>\n",
       "      <td>-0.031772</td>\n",
       "    </tr>\n",
       "    <tr>\n",
       "      <th>252487</th>\n",
       "      <td>2</td>\n",
       "      <td>141</td>\n",
       "      <td>0</td>\n",
       "      <td>-0.019464</td>\n",
       "      <td>-0.290523</td>\n",
       "      <td>-0.114694</td>\n",
       "      <td>-0.11104</td>\n",
       "      <td>-0.075765</td>\n",
       "      <td>0.528471</td>\n",
       "      <td>0.0</td>\n",
       "      <td>...</td>\n",
       "      <td>-0.202224</td>\n",
       "      <td>-0.191739</td>\n",
       "      <td>-0.201029</td>\n",
       "      <td>-1.172890</td>\n",
       "      <td>-0.920419</td>\n",
       "      <td>-0.117019</td>\n",
       "      <td>1.376341</td>\n",
       "      <td>-0.057639</td>\n",
       "      <td>2.307322</td>\n",
       "      <td>-0.031772</td>\n",
       "    </tr>\n",
       "  </tbody>\n",
       "</table>\n",
       "<p>5 rows × 73 columns</p>\n",
       "</div>"
      ],
      "text/plain": [
       "        channel  fee_prod_id  mbr_card_gr  \\\n",
       "252483        1          247            2   \n",
       "252484        2          171            2   \n",
       "252485        3          204            4   \n",
       "252486        2          168            4   \n",
       "252487        2          141            0   \n",
       "\n",
       "        additional_svc_allcare_scrb_type_standard  \\\n",
       "252483                                  -0.019464   \n",
       "252484                                  -0.019464   \n",
       "252485                                  -0.019464   \n",
       "252486                                  -0.019464   \n",
       "252487                                  -0.019464   \n",
       "\n",
       "        additional_svc_ansim_option_scrb_type_standard  \\\n",
       "252483                                       -0.290523   \n",
       "252484                                       -0.290523   \n",
       "252485                                       -0.290523   \n",
       "252486                                       -0.290523   \n",
       "252487                                       -0.290523   \n",
       "\n",
       "        additional_svc_bugs_scrb_type_standard  \\\n",
       "252483                               -0.114694   \n",
       "252484                               -0.114694   \n",
       "252485                               -0.114694   \n",
       "252486                               -0.114694   \n",
       "252487                               -0.114694   \n",
       "\n",
       "        additional_svc_flo_scrb_type_standard  \\\n",
       "252483                               -0.11104   \n",
       "252484                               -0.11104   \n",
       "252485                               -0.11104   \n",
       "252486                               -0.11104   \n",
       "252487                               -0.11104   \n",
       "\n",
       "        additional_svc_melon_scrb_type_standard  \\\n",
       "252483                                -0.075765   \n",
       "252484                                -0.075765   \n",
       "252485                                -0.075765   \n",
       "252486                                -0.075765   \n",
       "252487                                -0.075765   \n",
       "\n",
       "        additional_svc_oksusu_scrb_type_standard  \\\n",
       "252483                                  2.317187   \n",
       "252484                                  0.528471   \n",
       "252485                                  0.528471   \n",
       "252486                                  0.528471   \n",
       "252487                                  0.528471   \n",
       "\n",
       "        additional_svc_pooq_scrb_type_standard  ...  overage_bf0_standard  \\\n",
       "252483                                     0.0  ...             -0.202224   \n",
       "252484                                     0.0  ...             -0.202224   \n",
       "252485                                     0.0  ...             -0.202224   \n",
       "252486                                     0.0  ...             -0.202224   \n",
       "252487                                     0.0  ...             -0.202224   \n",
       "\n",
       "        overage_bf1_standard  overage_bf2_standard  real_avg_arpu_standard  \\\n",
       "252483             -0.191739             -0.201029               -0.232049   \n",
       "252484             -0.191739             -0.201029               -0.027538   \n",
       "252485             -0.191739             -0.201029                0.198199   \n",
       "252486             -0.191739             -0.201029               -0.587029   \n",
       "252487             -0.191739             -0.201029               -1.172890   \n",
       "\n",
       "        rem_allot_cnt_standard  roaming_cnt_m3_standard  \\\n",
       "252483               -0.920419                -0.117019   \n",
       "252484               -0.498600                -0.117019   \n",
       "252485               -0.393145                -0.117019   \n",
       "252486                1.399585                -0.117019   \n",
       "252487               -0.920419                -0.117019   \n",
       "\n",
       "        simpl_ref_cnsl_cnt_m3_standard  smart_watch_cnt_standard  \\\n",
       "252483                       -0.338241                 -0.057639   \n",
       "252484                        0.233286                 -0.057639   \n",
       "252485                       -0.338241                 -0.057639   \n",
       "252486                        0.233286                 -0.057639   \n",
       "252487                        1.376341                 -0.057639   \n",
       "\n",
       "        svc_scrb_period_standard  tablet_cnt_standard  \n",
       "252483                  3.161220            -0.031772  \n",
       "252484                  2.691778            -0.031772  \n",
       "252485                  2.626016            -0.031772  \n",
       "252486                  2.314404            -0.031772  \n",
       "252487                  2.307322            -0.031772  \n",
       "\n",
       "[5 rows x 73 columns]"
      ]
     },
     "execution_count": 3,
     "metadata": {},
     "output_type": "execute_result"
    }
   ],
   "source": [
    "train_X.head()"
   ]
  },
  {
   "cell_type": "code",
   "execution_count": 4,
   "metadata": {},
   "outputs": [
    {
     "data": {
      "text/plain": [
       "0Large      11222\n",
       "Special      5237\n",
       "0Medium      4969\n",
       "Essence      3326\n",
       "0Small       3275\n",
       "Safe2.5G     1242\n",
       "Max           419\n",
       "Safe4G        419\n",
       "Name: price_plan, dtype: int64"
      ]
     },
     "execution_count": 4,
     "metadata": {},
     "output_type": "execute_result"
    }
   ],
   "source": [
    "pd.value_counts(train_y)"
   ]
  },
  {
   "cell_type": "code",
   "execution_count": 5,
   "metadata": {},
   "outputs": [],
   "source": [
    "not_range_params = {\n",
    "    'boosting': ['gbdt', 'dart'],\n",
    "    'objective': ['multiclass', 'multiclassova'],\n",
    "    'is_unbalance': [False, True]\n",
    "}\n",
    "rangeable_params = {\n",
    "    'num_leaves': (20, 100),\n",
    "    'max_depth': (3, 10),\n",
    "    'learning_rate': (0.01, 0.5),\n",
    "    'num_iterations': (100, 300),\n",
    "    'bagging_fraction': (0.8, 1),\n",
    "    'bagging_freq': (2, 10),\n",
    "    'feature_fraction': (0.6, 1)\n",
    "}\n",
    "int_params = ['num_leaves', 'max_depth', 'num_iterations', 'bagging_freq']"
   ]
  },
  {
   "cell_type": "code",
   "execution_count": 7,
   "metadata": {},
   "outputs": [
    {
     "name": "stdout",
     "output_type": "stream",
     "text": [
      "3275\n",
      "4969\n",
      "11222\n",
      "|   iter    |  target   | baggin... | baggin... | boosting  | featur... | is_unb... | learni... | max_depth | num_it... | num_le... | objective |\n",
      "-------------------------------------------------------------------------------------------------------------------------------------------------\n",
      "{'bagging_fraction': 0.9384113947910206, 'bagging_freq': 2, 'boosting': 'gbdt', 'feature_fraction': 0.761061672706952, 'is_unbalance': False, 'learning_rate': 0.1918109842621281, 'max_depth': 3, 'num_iterations': 103, 'num_leaves': 80, 'objective': 'multiclassova', 'num_threads': 20, 'num_class': 3}\n",
      "34401\n"
     ]
    },
    {
     "name": "stderr",
     "output_type": "stream",
     "text": [
      "/home/dmig/py_libs/lib/python3.6/site-packages/lightgbm/engine.py:118: UserWarning: Found `num_iterations` in params. Will use it instead of argument\n",
      "  warnings.warn(\"Found `{}` in params. Will use it instead of argument\".format(alias))\n",
      "/home/dmig/py_libs/lib/python3.6/site-packages/lightgbm/basic.py:1209: UserWarning: categorical_feature in Dataset is overridden.\n",
      "New categorical_feature is ['channel', 'fee_prod_id', 'mbr_card_gr']\n",
      "  'New categorical_feature is {}'.format(sorted(list(categorical_feature))))\n"
     ]
    },
    {
     "name": "stdout",
     "output_type": "stream",
     "text": [
      "   accuracy_prob_first  mcc_prob_first\n",
      "0             0.130591        0.158809\n",
      "1             0.130301        0.158658\n",
      "2             0.130650        0.159450\n",
      "mean: 0.14474310698594162\n",
      "| \u001b[0m 1       \u001b[0m | \u001b[0m 0.1447  \u001b[0m | \u001b[0m 0.9384  \u001b[0m | \u001b[0m 2.356   \u001b[0m | \u001b[0m 0.1911  \u001b[0m | \u001b[0m 0.7611  \u001b[0m | \u001b[0m 0.4963  \u001b[0m | \u001b[0m 0.1918  \u001b[0m | \u001b[0m 3.193   \u001b[0m | \u001b[0m 103.4   \u001b[0m | \u001b[0m 79.57   \u001b[0m | \u001b[0m 0.7314  \u001b[0m |\n",
      "{'bagging_fraction': 0.9541908798524932, 'bagging_freq': 6, 'boosting': 'gbdt', 'feature_fraction': 0.749531929546545, 'is_unbalance': False, 'learning_rate': 0.40194253141400144, 'max_depth': 8, 'num_iterations': 224, 'num_leaves': 72, 'objective': 'multiclassova', 'num_threads': 20, 'num_class': 3}\n",
      "34401\n"
     ]
    },
    {
     "name": "stderr",
     "output_type": "stream",
     "text": [
      "/home/dmig/py_libs/lib/python3.6/site-packages/lightgbm/engine.py:118: UserWarning: Found `num_iterations` in params. Will use it instead of argument\n",
      "  warnings.warn(\"Found `{}` in params. Will use it instead of argument\".format(alias))\n",
      "/home/dmig/py_libs/lib/python3.6/site-packages/lightgbm/basic.py:1209: UserWarning: categorical_feature in Dataset is overridden.\n",
      "New categorical_feature is ['channel', 'fee_prod_id', 'mbr_card_gr']\n",
      "  'New categorical_feature is {}'.format(sorted(list(categorical_feature))))\n"
     ]
    },
    {
     "name": "stdout",
     "output_type": "stream",
     "text": [
      "   accuracy_prob_first  mcc_prob_first\n",
      "0             0.129735        0.155572\n",
      "1             0.130130        0.156591\n",
      "2             0.131090        0.159134\n",
      "mean: 0.14370849715736383\n",
      "| \u001b[0m 2       \u001b[0m | \u001b[0m 0.1437  \u001b[0m | \u001b[0m 0.9542  \u001b[0m | \u001b[0m 5.637   \u001b[0m | \u001b[0m 0.09156 \u001b[0m | \u001b[0m 0.7495  \u001b[0m | \u001b[0m 0.3053  \u001b[0m | \u001b[0m 0.4019  \u001b[0m | \u001b[0m 7.794   \u001b[0m | \u001b[0m 223.9   \u001b[0m | \u001b[0m 71.58   \u001b[0m | \u001b[0m 0.7723  \u001b[0m |\n",
      "{'bagging_fraction': 0.9972688490179249, 'bagging_freq': 8, 'boosting': 'dart', 'feature_fraction': 0.6688562210159074, 'is_unbalance': True, 'learning_rate': 0.16362386763639233, 'max_depth': 8, 'num_iterations': 223, 'num_leaves': 51, 'objective': 'multiclass', 'num_threads': 20, 'num_class': 3}\n",
      "34401\n"
     ]
    },
    {
     "name": "stderr",
     "output_type": "stream",
     "text": [
      "/home/dmig/py_libs/lib/python3.6/site-packages/lightgbm/engine.py:118: UserWarning: Found `num_iterations` in params. Will use it instead of argument\n",
      "  warnings.warn(\"Found `{}` in params. Will use it instead of argument\".format(alias))\n",
      "/home/dmig/py_libs/lib/python3.6/site-packages/lightgbm/basic.py:1209: UserWarning: categorical_feature in Dataset is overridden.\n",
      "New categorical_feature is ['channel', 'fee_prod_id', 'mbr_card_gr']\n",
      "  'New categorical_feature is {}'.format(sorted(list(categorical_feature))))\n"
     ]
    },
    {
     "name": "stdout",
     "output_type": "stream",
     "text": [
      "   accuracy_prob_first  mcc_prob_first\n",
      "0             0.130836        0.158880\n",
      "1             0.130203        0.157546\n",
      "2             0.131848        0.161356\n",
      "mean: 0.14511154759859538\n",
      "| \u001b[95m 3       \u001b[0m | \u001b[95m 0.1451  \u001b[0m | \u001b[95m 0.9973  \u001b[0m | \u001b[95m 7.589   \u001b[0m | \u001b[95m 0.9697  \u001b[0m | \u001b[95m 0.6689  \u001b[0m | \u001b[95m 0.7146  \u001b[0m | \u001b[95m 0.1636  \u001b[0m | \u001b[95m 8.467   \u001b[0m | \u001b[95m 223.2   \u001b[0m | \u001b[95m 50.5    \u001b[0m | \u001b[95m 0.1195  \u001b[0m |\n",
      "{'bagging_fraction': 0.9385341697092499, 'bagging_freq': 4, 'boosting': 'dart', 'feature_fraction': 0.685531644463494, 'is_unbalance': False, 'learning_rate': 0.06350677097974239, 'max_depth': 7, 'num_iterations': 294, 'num_leaves': 37, 'objective': 'multiclassova', 'num_threads': 20, 'num_class': 3}\n",
      "34401\n"
     ]
    },
    {
     "name": "stderr",
     "output_type": "stream",
     "text": [
      "/home/dmig/py_libs/lib/python3.6/site-packages/lightgbm/engine.py:118: UserWarning: Found `num_iterations` in params. Will use it instead of argument\n",
      "  warnings.warn(\"Found `{}` in params. Will use it instead of argument\".format(alias))\n",
      "/home/dmig/py_libs/lib/python3.6/site-packages/lightgbm/basic.py:1209: UserWarning: categorical_feature in Dataset is overridden.\n",
      "New categorical_feature is ['channel', 'fee_prod_id', 'mbr_card_gr']\n",
      "  'New categorical_feature is {}'.format(sorted(list(categorical_feature))))\n"
     ]
    },
    {
     "name": "stdout",
     "output_type": "stream",
     "text": [
      "   accuracy_prob_first  mcc_prob_first\n",
      "0             0.130787        0.159392\n",
      "1             0.131303        0.160819\n",
      "2             0.131775        0.162117\n",
      "mean: 0.1460321746502704\n",
      "| \u001b[95m 4       \u001b[0m | \u001b[95m 0.146   \u001b[0m | \u001b[95m 0.9385  \u001b[0m | \u001b[95m 4.073   \u001b[0m | \u001b[95m 0.5035  \u001b[0m | \u001b[95m 0.6855  \u001b[0m | \u001b[95m 0.3133  \u001b[0m | \u001b[95m 0.06351 \u001b[0m | \u001b[95m 7.481   \u001b[0m | \u001b[95m 293.6   \u001b[0m | \u001b[95m 37.37   \u001b[0m | \u001b[95m 0.9676  \u001b[0m |\n",
      "{'bagging_fraction': 0.9814435899394329, 'bagging_freq': 9, 'boosting': 'gbdt', 'feature_fraction': 0.9293286154341521, 'is_unbalance': True, 'learning_rate': 0.4967327133241918, 'max_depth': 8, 'num_iterations': 203, 'num_leaves': 25, 'objective': 'multiclass', 'num_threads': 20, 'num_class': 3}\n",
      "34401\n"
     ]
    },
    {
     "name": "stderr",
     "output_type": "stream",
     "text": [
      "/home/dmig/py_libs/lib/python3.6/site-packages/lightgbm/engine.py:118: UserWarning: Found `num_iterations` in params. Will use it instead of argument\n",
      "  warnings.warn(\"Found `{}` in params. Will use it instead of argument\".format(alias))\n",
      "/home/dmig/py_libs/lib/python3.6/site-packages/lightgbm/basic.py:1209: UserWarning: categorical_feature in Dataset is overridden.\n",
      "New categorical_feature is ['channel', 'fee_prod_id', 'mbr_card_gr']\n",
      "  'New categorical_feature is {}'.format(sorted(list(categorical_feature))))\n"
     ]
    },
    {
     "name": "stdout",
     "output_type": "stream",
     "text": [
      "   accuracy_prob_first  mcc_prob_first\n",
      "0             0.129417        0.154995\n",
      "1             0.129029        0.153890\n",
      "2             0.129549        0.155406\n",
      "mean: 0.14204764367521336\n",
      "| \u001b[0m 5       \u001b[0m | \u001b[0m 0.142   \u001b[0m | \u001b[0m 0.9814  \u001b[0m | \u001b[0m 8.547   \u001b[0m | \u001b[0m 0.2041  \u001b[0m | \u001b[0m 0.9293  \u001b[0m | \u001b[0m 0.9178  \u001b[0m | \u001b[0m 0.4967  \u001b[0m | \u001b[0m 7.793   \u001b[0m | \u001b[0m 203.4   \u001b[0m | \u001b[0m 25.11   \u001b[0m | \u001b[0m 0.4905  \u001b[0m |\n",
      "{'bagging_fraction': 0.9036881830380089, 'bagging_freq': 8, 'boosting': 'dart', 'feature_fraction': 0.9676099619246434, 'is_unbalance': True, 'learning_rate': 0.18143520429326326, 'max_depth': 6, 'num_iterations': 144, 'num_leaves': 48, 'objective': 'multiclass', 'num_threads': 20, 'num_class': 3}\n",
      "34401\n"
     ]
    },
    {
     "name": "stderr",
     "output_type": "stream",
     "text": [
      "/home/dmig/py_libs/lib/python3.6/site-packages/lightgbm/engine.py:118: UserWarning: Found `num_iterations` in params. Will use it instead of argument\n",
      "  warnings.warn(\"Found `{}` in params. Will use it instead of argument\".format(alias))\n",
      "/home/dmig/py_libs/lib/python3.6/site-packages/lightgbm/basic.py:1209: UserWarning: categorical_feature in Dataset is overridden.\n",
      "New categorical_feature is ['channel', 'fee_prod_id', 'mbr_card_gr']\n",
      "  'New categorical_feature is {}'.format(sorted(list(categorical_feature))))\n"
     ]
    },
    {
     "name": "stdout",
     "output_type": "stream",
     "text": [
      "   accuracy_prob_first  mcc_prob_first\n",
      "0             0.131129        0.160031\n",
      "1             0.130937        0.159790\n",
      "2             0.131212        0.160480\n",
      "mean: 0.1455964668532394\n",
      "| \u001b[0m 6       \u001b[0m | \u001b[0m 0.1456  \u001b[0m | \u001b[0m 0.9037  \u001b[0m | \u001b[0m 7.924   \u001b[0m | \u001b[0m 0.8771  \u001b[0m | \u001b[0m 0.9676  \u001b[0m | \u001b[0m 0.9938  \u001b[0m | \u001b[0m 0.1814  \u001b[0m | \u001b[0m 5.594   \u001b[0m | \u001b[0m 144.2   \u001b[0m | \u001b[0m 48.25   \u001b[0m | \u001b[0m 0.3606  \u001b[0m |\n",
      "{'bagging_fraction': 0.8095042630565077, 'bagging_freq': 8, 'boosting': 'gbdt', 'feature_fraction': 0.9810632859640507, 'is_unbalance': False, 'learning_rate': 0.20235314993412115, 'max_depth': 4, 'num_iterations': 258, 'num_leaves': 26, 'objective': 'multiclass', 'num_threads': 20, 'num_class': 3}\n",
      "34401\n"
     ]
    },
    {
     "name": "stderr",
     "output_type": "stream",
     "text": [
      "/home/dmig/py_libs/lib/python3.6/site-packages/lightgbm/engine.py:118: UserWarning: Found `num_iterations` in params. Will use it instead of argument\n",
      "  warnings.warn(\"Found `{}` in params. Will use it instead of argument\".format(alias))\n",
      "/home/dmig/py_libs/lib/python3.6/site-packages/lightgbm/basic.py:1209: UserWarning: categorical_feature in Dataset is overridden.\n",
      "New categorical_feature is ['channel', 'fee_prod_id', 'mbr_card_gr']\n",
      "  'New categorical_feature is {}'.format(sorted(list(categorical_feature))))\n"
     ]
    },
    {
     "name": "stdout",
     "output_type": "stream",
     "text": [
      "   accuracy_prob_first  mcc_prob_first\n",
      "0             0.130224        0.156849\n",
      "1             0.130692        0.158300\n",
      "2             0.130454        0.158184\n",
      "mean: 0.14411711542128555\n",
      "| \u001b[0m 7       \u001b[0m | \u001b[0m 0.1441  \u001b[0m | \u001b[0m 0.8095  \u001b[0m | \u001b[0m 7.691   \u001b[0m | \u001b[0m 0.1686  \u001b[0m | \u001b[0m 0.9811  \u001b[0m | \u001b[0m 0.2743  \u001b[0m | \u001b[0m 0.2024  \u001b[0m | \u001b[0m 3.721   \u001b[0m | \u001b[0m 257.9   \u001b[0m | \u001b[0m 25.92   \u001b[0m | \u001b[0m 0.4769  \u001b[0m |\n",
      "{'bagging_fraction': 0.8119925013355208, 'bagging_freq': 2, 'boosting': 'dart', 'feature_fraction': 0.8526481512070259, 'is_unbalance': True, 'learning_rate': 0.014139431373918435, 'max_depth': 8, 'num_iterations': 196, 'num_leaves': 24, 'objective': 'multiclassova', 'num_threads': 20, 'num_class': 3}\n",
      "34401\n"
     ]
    },
    {
     "name": "stderr",
     "output_type": "stream",
     "text": [
      "/home/dmig/py_libs/lib/python3.6/site-packages/lightgbm/engine.py:118: UserWarning: Found `num_iterations` in params. Will use it instead of argument\n",
      "  warnings.warn(\"Found `{}` in params. Will use it instead of argument\".format(alias))\n",
      "/home/dmig/py_libs/lib/python3.6/site-packages/lightgbm/basic.py:1209: UserWarning: categorical_feature in Dataset is overridden.\n",
      "New categorical_feature is ['channel', 'fee_prod_id', 'mbr_card_gr']\n",
      "  'New categorical_feature is {}'.format(sorted(list(categorical_feature))))\n"
     ]
    },
    {
     "name": "stdout",
     "output_type": "stream",
     "text": [
      "   accuracy_prob_first  mcc_prob_first\n",
      "0             0.128170        0.164928\n",
      "1             0.129029        0.165071\n",
      "2             0.128644        0.165304\n",
      "mean: 0.14685767077156434\n",
      "| \u001b[95m 8       \u001b[0m | \u001b[95m 0.1469  \u001b[0m | \u001b[95m 0.812   \u001b[0m | \u001b[95m 2.026   \u001b[0m | \u001b[95m 0.6246  \u001b[0m | \u001b[95m 0.8526  \u001b[0m | \u001b[95m 0.607   \u001b[0m | \u001b[95m 0.01414 \u001b[0m | \u001b[95m 8.094   \u001b[0m | \u001b[95m 195.6   \u001b[0m | \u001b[95m 23.96   \u001b[0m | \u001b[95m 0.9512  \u001b[0m |\n",
      "{'bagging_fraction': 0.9697910590703203, 'bagging_freq': 4, 'boosting': 'gbdt', 'feature_fraction': 0.9120985061520605, 'is_unbalance': True, 'learning_rate': 0.39292453343126243, 'max_depth': 9, 'num_iterations': 125, 'num_leaves': 98, 'objective': 'multiclassova', 'num_threads': 20, 'num_class': 3}\n",
      "34401\n"
     ]
    },
    {
     "name": "stderr",
     "output_type": "stream",
     "text": [
      "/home/dmig/py_libs/lib/python3.6/site-packages/lightgbm/engine.py:118: UserWarning: Found `num_iterations` in params. Will use it instead of argument\n",
      "  warnings.warn(\"Found `{}` in params. Will use it instead of argument\".format(alias))\n",
      "/home/dmig/py_libs/lib/python3.6/site-packages/lightgbm/basic.py:1209: UserWarning: categorical_feature in Dataset is overridden.\n",
      "New categorical_feature is ['channel', 'fee_prod_id', 'mbr_card_gr']\n",
      "  'New categorical_feature is {}'.format(sorted(list(categorical_feature))))\n"
     ]
    },
    {
     "name": "stdout",
     "output_type": "stream",
     "text": [
      "   accuracy_prob_first  mcc_prob_first\n",
      "0             0.130004        0.157263\n",
      "1             0.130423        0.158310\n",
      "2             0.130796        0.158884\n",
      "mean: 0.14428015454779144\n",
      "| \u001b[0m 9       \u001b[0m | \u001b[0m 0.1443  \u001b[0m | \u001b[0m 0.9698  \u001b[0m | \u001b[0m 4.106   \u001b[0m | \u001b[0m 0.3165  \u001b[0m | \u001b[0m 0.9121  \u001b[0m | \u001b[0m 0.7239  \u001b[0m | \u001b[0m 0.3929  \u001b[0m | \u001b[0m 8.514   \u001b[0m | \u001b[0m 125.3   \u001b[0m | \u001b[0m 98.0    \u001b[0m | \u001b[0m 0.8337  \u001b[0m |\n",
      "{'bagging_fraction': 0.8404627369655908, 'bagging_freq': 5, 'boosting': 'gbdt', 'feature_fraction': 0.9703870147637965, 'is_unbalance': False, 'learning_rate': 0.4753829728021767, 'max_depth': 6, 'num_iterations': 135, 'num_leaves': 28, 'objective': 'multiclass', 'num_threads': 20, 'num_class': 3}\n",
      "34401\n"
     ]
    },
    {
     "name": "stderr",
     "output_type": "stream",
     "text": [
      "/home/dmig/py_libs/lib/python3.6/site-packages/lightgbm/engine.py:118: UserWarning: Found `num_iterations` in params. Will use it instead of argument\n",
      "  warnings.warn(\"Found `{}` in params. Will use it instead of argument\".format(alias))\n",
      "/home/dmig/py_libs/lib/python3.6/site-packages/lightgbm/basic.py:1209: UserWarning: categorical_feature in Dataset is overridden.\n",
      "New categorical_feature is ['channel', 'fee_prod_id', 'mbr_card_gr']\n",
      "  'New categorical_feature is {}'.format(sorted(list(categorical_feature))))\n"
     ]
    },
    {
     "name": "stdout",
     "output_type": "stream",
     "text": [
      "   accuracy_prob_first  mcc_prob_first\n",
      "0             0.129026        0.153626\n",
      "1             0.128222        0.151699\n",
      "2             0.129011        0.153850\n",
      "mean: 0.14090564309818956\n",
      "| \u001b[0m 10      \u001b[0m | \u001b[0m 0.1409  \u001b[0m | \u001b[0m 0.8405  \u001b[0m | \u001b[0m 5.471   \u001b[0m | \u001b[0m 0.4316  \u001b[0m | \u001b[0m 0.9704  \u001b[0m | \u001b[0m 0.07818 \u001b[0m | \u001b[0m 0.4754  \u001b[0m | \u001b[0m 6.1     \u001b[0m | \u001b[0m 134.6   \u001b[0m | \u001b[0m 28.28   \u001b[0m | \u001b[0m 0.05936 \u001b[0m |\n",
      "{'bagging_fraction': 0.9083685868114719, 'bagging_freq': 5, 'boosting': 'dart', 'feature_fraction': 0.9951260780567521, 'is_unbalance': True, 'learning_rate': 0.2059050199321751, 'max_depth': 3, 'num_iterations': 300, 'num_leaves': 100, 'objective': 'multiclass', 'num_threads': 20, 'num_class': 3}\n",
      "34401\n"
     ]
    },
    {
     "name": "stderr",
     "output_type": "stream",
     "text": [
      "/home/dmig/py_libs/lib/python3.6/site-packages/lightgbm/engine.py:118: UserWarning: Found `num_iterations` in params. Will use it instead of argument\n",
      "  warnings.warn(\"Found `{}` in params. Will use it instead of argument\".format(alias))\n",
      "/home/dmig/py_libs/lib/python3.6/site-packages/lightgbm/basic.py:1209: UserWarning: categorical_feature in Dataset is overridden.\n",
      "New categorical_feature is ['channel', 'fee_prod_id', 'mbr_card_gr']\n",
      "  'New categorical_feature is {}'.format(sorted(list(categorical_feature))))\n"
     ]
    },
    {
     "name": "stdout",
     "output_type": "stream",
     "text": [
      "   accuracy_prob_first  mcc_prob_first\n",
      "0             0.130542        0.159457\n",
      "1             0.130814        0.159919\n",
      "2             0.130845        0.160187\n",
      "mean: 0.14529414643148805\n",
      "| \u001b[0m 11      \u001b[0m | \u001b[0m 0.1453  \u001b[0m | \u001b[0m 0.9084  \u001b[0m | \u001b[0m 5.061   \u001b[0m | \u001b[0m 0.5638  \u001b[0m | \u001b[0m 0.9951  \u001b[0m | \u001b[0m 0.559   \u001b[0m | \u001b[0m 0.2059  \u001b[0m | \u001b[0m 3.075   \u001b[0m | \u001b[0m 299.6   \u001b[0m | \u001b[0m 99.97   \u001b[0m | \u001b[0m 0.4008  \u001b[0m |\n",
      "{'bagging_fraction': 0.9823658146002981, 'bagging_freq': 2, 'boosting': 'dart', 'feature_fraction': 0.844557193424584, 'is_unbalance': True, 'learning_rate': 0.10260227101636475, 'max_depth': 10, 'num_iterations': 299, 'num_leaves': 100, 'objective': 'multiclassova', 'num_threads': 20, 'num_class': 3}\n",
      "34401\n"
     ]
    },
    {
     "name": "stderr",
     "output_type": "stream",
     "text": [
      "/home/dmig/py_libs/lib/python3.6/site-packages/lightgbm/engine.py:118: UserWarning: Found `num_iterations` in params. Will use it instead of argument\n",
      "  warnings.warn(\"Found `{}` in params. Will use it instead of argument\".format(alias))\n",
      "/home/dmig/py_libs/lib/python3.6/site-packages/lightgbm/basic.py:1209: UserWarning: categorical_feature in Dataset is overridden.\n",
      "New categorical_feature is ['channel', 'fee_prod_id', 'mbr_card_gr']\n",
      "  'New categorical_feature is {}'.format(sorted(list(categorical_feature))))\n"
     ]
    },
    {
     "name": "stdout",
     "output_type": "stream",
     "text": [
      "   accuracy_prob_first  mcc_prob_first\n",
      "0             0.130249        0.161345\n",
      "1             0.130692        0.162118\n",
      "2             0.131848        0.165149\n",
      "mean: 0.14690025449713193\n",
      "| \u001b[95m 12      \u001b[0m | \u001b[95m 0.1469  \u001b[0m | \u001b[95m 0.9824  \u001b[0m | \u001b[95m 2.278   \u001b[0m | \u001b[95m 0.6145  \u001b[0m | \u001b[95m 0.8446  \u001b[0m | \u001b[95m 0.8263  \u001b[0m | \u001b[95m 0.1026  \u001b[0m | \u001b[95m 9.804   \u001b[0m | \u001b[95m 299.2   \u001b[0m | \u001b[95m 99.96   \u001b[0m | \u001b[95m 0.5491  \u001b[0m |\n",
      "{'bagging_fraction': 0.9316387096612585, 'bagging_freq': 3, 'boosting': 'gbdt', 'feature_fraction': 0.8139449689920327, 'is_unbalance': True, 'learning_rate': 0.17751100261544145, 'max_depth': 5, 'num_iterations': 300, 'num_leaves': 100, 'objective': 'multiclass', 'num_threads': 20, 'num_class': 3}\n",
      "34401\n"
     ]
    },
    {
     "name": "stderr",
     "output_type": "stream",
     "text": [
      "/home/dmig/py_libs/lib/python3.6/site-packages/lightgbm/engine.py:118: UserWarning: Found `num_iterations` in params. Will use it instead of argument\n",
      "  warnings.warn(\"Found `{}` in params. Will use it instead of argument\".format(alias))\n",
      "/home/dmig/py_libs/lib/python3.6/site-packages/lightgbm/basic.py:1209: UserWarning: categorical_feature in Dataset is overridden.\n",
      "New categorical_feature is ['channel', 'fee_prod_id', 'mbr_card_gr']\n",
      "  'New categorical_feature is {}'.format(sorted(list(categorical_feature))))\n"
     ]
    },
    {
     "name": "stdout",
     "output_type": "stream",
     "text": [
      "   accuracy_prob_first  mcc_prob_first\n",
      "0             0.129613        0.155698\n",
      "1             0.130130        0.156858\n",
      "2             0.130796        0.158483\n",
      "mean: 0.14359636048321006\n",
      "| \u001b[0m 13      \u001b[0m | \u001b[0m 0.1436  \u001b[0m | \u001b[0m 0.9316  \u001b[0m | \u001b[0m 3.017   \u001b[0m | \u001b[0m 0.07748 \u001b[0m | \u001b[0m 0.8139  \u001b[0m | \u001b[0m 0.8135  \u001b[0m | \u001b[0m 0.1775  \u001b[0m | \u001b[0m 4.696   \u001b[0m | \u001b[0m 299.9   \u001b[0m | \u001b[0m 99.63   \u001b[0m | \u001b[0m 0.1408  \u001b[0m |\n",
      "{'bagging_fraction': 0.9417847991903163, 'bagging_freq': 4, 'boosting': 'gbdt', 'feature_fraction': 0.6021678279297499, 'is_unbalance': False, 'learning_rate': 0.25495887501145537, 'max_depth': 9, 'num_iterations': 299, 'num_leaves': 100, 'objective': 'multiclassova', 'num_threads': 20, 'num_class': 3}\n",
      "34401\n"
     ]
    },
    {
     "name": "stderr",
     "output_type": "stream",
     "text": [
      "/home/dmig/py_libs/lib/python3.6/site-packages/lightgbm/engine.py:118: UserWarning: Found `num_iterations` in params. Will use it instead of argument\n",
      "  warnings.warn(\"Found `{}` in params. Will use it instead of argument\".format(alias))\n",
      "/home/dmig/py_libs/lib/python3.6/site-packages/lightgbm/basic.py:1209: UserWarning: categorical_feature in Dataset is overridden.\n",
      "New categorical_feature is ['channel', 'fee_prod_id', 'mbr_card_gr']\n",
      "  'New categorical_feature is {}'.format(sorted(list(categorical_feature))))\n"
     ]
    },
    {
     "name": "stdout",
     "output_type": "stream",
     "text": [
      "   accuracy_prob_first  mcc_prob_first\n",
      "0             0.130078        0.156497\n",
      "1             0.130570        0.157765\n",
      "2             0.131285        0.159518\n",
      "mean: 0.14428531466145103\n",
      "| \u001b[0m 14      \u001b[0m | \u001b[0m 0.1443  \u001b[0m | \u001b[0m 0.9418  \u001b[0m | \u001b[0m 3.631   \u001b[0m | \u001b[0m 0.4763  \u001b[0m | \u001b[0m 0.6022  \u001b[0m | \u001b[0m 0.04536 \u001b[0m | \u001b[0m 0.255   \u001b[0m | \u001b[0m 8.561   \u001b[0m | \u001b[0m 299.3   \u001b[0m | \u001b[0m 99.62   \u001b[0m | \u001b[0m 0.8056  \u001b[0m |\n",
      "{'bagging_fraction': 0.9194554605111841, 'bagging_freq': 3, 'boosting': 'dart', 'feature_fraction': 0.7335728796099623, 'is_unbalance': True, 'learning_rate': 0.4872015757926172, 'max_depth': 4, 'num_iterations': 300, 'num_leaves': 100, 'objective': 'multiclassova', 'num_threads': 20, 'num_class': 3}\n",
      "34401\n"
     ]
    },
    {
     "name": "stderr",
     "output_type": "stream",
     "text": [
      "/home/dmig/py_libs/lib/python3.6/site-packages/lightgbm/engine.py:118: UserWarning: Found `num_iterations` in params. Will use it instead of argument\n",
      "  warnings.warn(\"Found `{}` in params. Will use it instead of argument\".format(alias))\n",
      "/home/dmig/py_libs/lib/python3.6/site-packages/lightgbm/basic.py:1209: UserWarning: categorical_feature in Dataset is overridden.\n",
      "New categorical_feature is ['channel', 'fee_prod_id', 'mbr_card_gr']\n",
      "  'New categorical_feature is {}'.format(sorted(list(categorical_feature))))\n"
     ]
    },
    {
     "name": "stdout",
     "output_type": "stream",
     "text": [
      "   accuracy_prob_first  mcc_prob_first\n",
      "0             0.129760        0.159780\n",
      "1             0.129616        0.159365\n",
      "2             0.130209        0.160894\n",
      "mean: 0.14493734279191772\n",
      "| \u001b[0m 15      \u001b[0m | \u001b[0m 0.1449  \u001b[0m | \u001b[0m 0.9195  \u001b[0m | \u001b[0m 2.971   \u001b[0m | \u001b[0m 0.9695  \u001b[0m | \u001b[0m 0.7336  \u001b[0m | \u001b[0m 0.8142  \u001b[0m | \u001b[0m 0.4872  \u001b[0m | \u001b[0m 3.704   \u001b[0m | \u001b[0m 299.9   \u001b[0m | \u001b[0m 99.68   \u001b[0m | \u001b[0m 0.5225  \u001b[0m |\n",
      "=================================================================================================================================================\n"
     ]
    }
   ],
   "source": [
    "#### multiclassification modeling for 0Small, 0Medium and 0Large \n",
    "#### while taking the category columns as category\n",
    "#### \n",
    "multiclass_tuner = LightGBMwithBayesOpt(train_X, train_y, 3, rangeable_params, int_params, 5, ['0Small', '0Medium', '0Large'], \n",
    "                                        not_range_params, categorical_feature=['channel', 'fee_prod_id', 'mbr_card_gr'], \n",
    "                                        pred_modes=['prob_first'], metrics=['accuracy', 'mcc'])\n",
    "multiclass_tuner.do_parameter_tuning()"
   ]
  },
  {
   "cell_type": "code",
   "execution_count": 12,
   "metadata": {},
   "outputs": [],
   "source": [
    "### train data with the best parameter\n",
    "multiclass_model = multiclass_tuner.do_train_with_given_parameter(multiclass_tuner.best_parameter, multiclass_tuner.data_set)"
   ]
  },
  {
   "cell_type": "code",
   "execution_count": 14,
   "metadata": {},
   "outputs": [
    {
     "data": {
      "text/plain": [
       "{'bagging_fraction': 0.9823658146002981,\n",
       " 'bagging_freq': 2,\n",
       " 'boosting': 'dart',\n",
       " 'feature_fraction': 0.844557193424584,\n",
       " 'is_unbalance': True,\n",
       " 'learning_rate': 0.10260227101636475,\n",
       " 'max_depth': 10,\n",
       " 'num_class': 3,\n",
       " 'num_leaves': 100,\n",
       " 'num_threads': 20,\n",
       " 'objective': 'multiclassova'}"
      ]
     },
     "execution_count": 14,
     "metadata": {},
     "output_type": "execute_result"
    }
   ],
   "source": [
    "multiclass_model.params"
   ]
  },
  {
   "cell_type": "code",
   "execution_count": 24,
   "metadata": {},
   "outputs": [],
   "source": [
    "### evaluate the model with the test set\n",
    "test_y.loc[test_y.isnull()] = '-1'\n",
    "evl = LightGBMEvalutor(multiclass_model, test_X, ['0Small', '0Medium', '0Large'], test_y)\n",
    "scores = evl.score_predict()\n",
    "raw_scores = evl.score_predict(raw=True)\n",
    "prob_first = evl.label_predict(scores, mode='prob_first')\n",
    "rank_first = evl.label_predict(raw_scores, mode='rank_first')\n",
    "acc_mcc_list = list(map(lambda y: list(map(lambda x: evl.measure_pred_with_true(y, mode=x), ['accuracy', 'mcc'])), [prob_first, rank_first]))"
   ]
  },
  {
   "cell_type": "code",
   "execution_count": 25,
   "metadata": {},
   "outputs": [
    {
     "data": {
      "text/html": [
       "<div>\n",
       "<style scoped>\n",
       "    .dataframe tbody tr th:only-of-type {\n",
       "        vertical-align: middle;\n",
       "    }\n",
       "\n",
       "    .dataframe tbody tr th {\n",
       "        vertical-align: top;\n",
       "    }\n",
       "\n",
       "    .dataframe thead th {\n",
       "        text-align: right;\n",
       "    }\n",
       "</style>\n",
       "<table border=\"1\" class=\"dataframe\">\n",
       "  <thead>\n",
       "    <tr style=\"text-align: right;\">\n",
       "      <th></th>\n",
       "      <th>0Small</th>\n",
       "      <th>0Medium</th>\n",
       "      <th>0Large</th>\n",
       "    </tr>\n",
       "  </thead>\n",
       "  <tbody>\n",
       "    <tr>\n",
       "      <th>0</th>\n",
       "      <td>0.000019</td>\n",
       "      <td>0.000138</td>\n",
       "      <td>0.999811</td>\n",
       "    </tr>\n",
       "    <tr>\n",
       "      <th>1</th>\n",
       "      <td>0.000037</td>\n",
       "      <td>0.000592</td>\n",
       "      <td>0.999793</td>\n",
       "    </tr>\n",
       "    <tr>\n",
       "      <th>2</th>\n",
       "      <td>0.000076</td>\n",
       "      <td>0.431975</td>\n",
       "      <td>0.268015</td>\n",
       "    </tr>\n",
       "    <tr>\n",
       "      <th>3</th>\n",
       "      <td>0.000053</td>\n",
       "      <td>0.000116</td>\n",
       "      <td>0.999815</td>\n",
       "    </tr>\n",
       "    <tr>\n",
       "      <th>4</th>\n",
       "      <td>0.000031</td>\n",
       "      <td>0.573192</td>\n",
       "      <td>0.471622</td>\n",
       "    </tr>\n",
       "  </tbody>\n",
       "</table>\n",
       "</div>"
      ],
      "text/plain": [
       "     0Small   0Medium    0Large\n",
       "0  0.000019  0.000138  0.999811\n",
       "1  0.000037  0.000592  0.999793\n",
       "2  0.000076  0.431975  0.268015\n",
       "3  0.000053  0.000116  0.999815\n",
       "4  0.000031  0.573192  0.471622"
      ]
     },
     "execution_count": 25,
     "metadata": {},
     "output_type": "execute_result"
    }
   ],
   "source": [
    "scores.head()"
   ]
  },
  {
   "cell_type": "code",
   "execution_count": 26,
   "metadata": {},
   "outputs": [
    {
     "data": {
      "text/html": [
       "<div>\n",
       "<style scoped>\n",
       "    .dataframe tbody tr th:only-of-type {\n",
       "        vertical-align: middle;\n",
       "    }\n",
       "\n",
       "    .dataframe tbody tr th {\n",
       "        vertical-align: top;\n",
       "    }\n",
       "\n",
       "    .dataframe thead th {\n",
       "        text-align: right;\n",
       "    }\n",
       "</style>\n",
       "<table border=\"1\" class=\"dataframe\">\n",
       "  <thead>\n",
       "    <tr style=\"text-align: right;\">\n",
       "      <th></th>\n",
       "      <th>0Small</th>\n",
       "      <th>0Medium</th>\n",
       "      <th>0Large</th>\n",
       "    </tr>\n",
       "  </thead>\n",
       "  <tbody>\n",
       "    <tr>\n",
       "      <th>0</th>\n",
       "      <td>-10.882721</td>\n",
       "      <td>-8.886824</td>\n",
       "      <td>8.573075</td>\n",
       "    </tr>\n",
       "    <tr>\n",
       "      <th>1</th>\n",
       "      <td>-10.194631</td>\n",
       "      <td>-7.431277</td>\n",
       "      <td>8.482677</td>\n",
       "    </tr>\n",
       "    <tr>\n",
       "      <th>2</th>\n",
       "      <td>-9.481941</td>\n",
       "      <td>-0.273798</td>\n",
       "      <td>-1.004715</td>\n",
       "    </tr>\n",
       "    <tr>\n",
       "      <th>3</th>\n",
       "      <td>-9.837602</td>\n",
       "      <td>-9.063112</td>\n",
       "      <td>8.595174</td>\n",
       "    </tr>\n",
       "    <tr>\n",
       "      <th>4</th>\n",
       "      <td>-10.394949</td>\n",
       "      <td>0.294886</td>\n",
       "      <td>-0.113636</td>\n",
       "    </tr>\n",
       "  </tbody>\n",
       "</table>\n",
       "</div>"
      ],
      "text/plain": [
       "      0Small   0Medium    0Large\n",
       "0 -10.882721 -8.886824  8.573075\n",
       "1 -10.194631 -7.431277  8.482677\n",
       "2  -9.481941 -0.273798 -1.004715\n",
       "3  -9.837602 -9.063112  8.595174\n",
       "4 -10.394949  0.294886 -0.113636"
      ]
     },
     "execution_count": 26,
     "metadata": {},
     "output_type": "execute_result"
    }
   ],
   "source": [
    "raw_scores.head()"
   ]
  },
  {
   "cell_type": "code",
   "execution_count": 27,
   "metadata": {},
   "outputs": [
    {
     "data": {
      "text/plain": [
       "['0Large', '0Large', '0Medium', '0Large', '0Medium']"
      ]
     },
     "execution_count": 27,
     "metadata": {},
     "output_type": "execute_result"
    }
   ],
   "source": [
    "prob_first[:5]"
   ]
  },
  {
   "cell_type": "code",
   "execution_count": 28,
   "metadata": {},
   "outputs": [
    {
     "data": {
      "text/plain": [
       "['0Large', '0Large', '0Small', '0Large', '0Medium']"
      ]
     },
     "execution_count": 28,
     "metadata": {},
     "output_type": "execute_result"
    }
   ],
   "source": [
    "rank_first[:5]"
   ]
  },
  {
   "cell_type": "code",
   "execution_count": 30,
   "metadata": {},
   "outputs": [
    {
     "data": {
      "text/plain": [
       "[[0.2947482208810017, 0.226415448288777],\n",
       " [0.3079452301594451, 0.2695706723822431]]"
      ]
     },
     "execution_count": 30,
     "metadata": {},
     "output_type": "execute_result"
    }
   ],
   "source": [
    "## accuracy_prob_first, mcc_prob_first\n",
    "## accuracy_rank_first, mcc_rank_first\n",
    "acc_mcc_list"
   ]
  },
  {
   "cell_type": "code",
   "execution_count": null,
   "metadata": {},
   "outputs": [],
   "source": []
  }
 ],
 "metadata": {
  "kernelspec": {
   "display_name": "Python 3",
   "language": "python",
   "name": "python3"
  },
  "language_info": {
   "codemirror_mode": {
    "name": "ipython",
    "version": 3
   },
   "file_extension": ".py",
   "mimetype": "text/x-python",
   "name": "python",
   "nbconvert_exporter": "python",
   "pygments_lexer": "ipython3",
   "version": "3.6.7"
  }
 },
 "nbformat": 4,
 "nbformat_minor": 2
}